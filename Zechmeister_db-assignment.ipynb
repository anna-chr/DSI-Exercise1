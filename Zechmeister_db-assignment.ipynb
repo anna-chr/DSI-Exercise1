{
 "cells": [
  {
   "cell_type": "markdown",
   "metadata": {
    "id": "bPW7lnQgygRa"
   },
   "source": [
    "Run Query: Find all the tracks whose name starts with 'All'. **How many total records there are for this query?**"
   ]
  },
  {
   "cell_type": "code",
   "execution_count": null,
   "metadata": {
    "id": "z53a0pcIyifp"
   },
   "outputs": [],
   "source": [
    "select count(*) from tracks\n",
    "where (name like 'All%');"
   ]
  },
  {
   "cell_type": "markdown",
   "metadata": {
    "id": "58RIwz86yivs"
   },
   "source": [
    "Run Query: Find all the customer emails that start with \"J\" and are from gmail.com."
   ]
  },
  {
   "cell_type": "code",
   "execution_count": null,
   "metadata": {
    "id": "b16LHsVKzBKS"
   },
   "outputs": [],
   "source": [
    "select * from customers\n",
    "where (email like 'j%') and (email like '%gmail.com');"
   ]
  },
  {
   "cell_type": "markdown",
   "metadata": {},
   "source": [
    "Run Query: Find the albums with 12 or more tracks."
   ]
  },
  {
   "cell_type": "code",
   "execution_count": null,
   "metadata": {},
   "outputs": [],
   "source": [
    "SELECT * FROM albums where albums.id in\n",
    "(select albums.id from albums\n",
    "join tracks on albums.id = tracks.album_id\n",
    "group by (albums.id)\n",
    "having count(tracks.id) > 12);"
   ]
  },
  {
   "cell_type": "markdown",
   "metadata": {
    "id": "jDxz4RSezQir",
    "pycharm": {
     "name": "#%% md\n"
    }
   },
   "source": [
    "Create a list of album titles and the unit prices for the artist \"Audioslave\". "
   ]
  },
  {
   "cell_type": "code",
   "execution_count": null,
   "metadata": {
    "pycharm": {
     "name": "#%%\n"
    }
   },
   "outputs": [],
   "source": [
    "select sum(tracks.unit_price), albums.title\n",
    "from albums\n",
    "join tracks on albums.id = tracks.album_id\n",
    "group by albums.id\n",
    "having albums.artist_id = (select artists.id\n",
    "                           from artists\n",
    "                           where artists.name = 'Audioslave');"
   ]
  },
  {
   "cell_type": "markdown",
   "metadata": {
    "id": "6TVnINglAGsv"
   },
   "source": [
    "Using a subquery, find the names of all the tracks for the album \"Californication\"."
   ]
  },
  {
   "cell_type": "code",
   "execution_count": null,
   "metadata": {
    "id": "dUppFfETAM9U"
   },
   "outputs": [],
   "source": [
    "select tracks.name\n",
    "from tracks\n",
    "where tracks.album_id = (select albums.id\n",
    "                         from albums\n",
    "                         where albums.title = 'Californication');"
   ]
  },
  {
   "cell_type": "markdown",
   "metadata": {
    "id": "vulChgqDANLU"
   },
   "source": [
    "Find the total number of invoices for each customer along with the customer's full name, city and email."
   ]
  },
  {
   "cell_type": "code",
   "execution_count": null,
   "metadata": {
    "id": "sGRBCv0lAOsq"
   },
   "outputs": [],
   "source": [
    "select count(invoices.id) as invoices_sum, customers.last_name, customers.first_name, customers.city, customers.email\n",
    "from customers\n",
    "join invoices on customers.id = invoices.customer_id\n",
    "group by customers.id;"
   ]
  },
  {
   "cell_type": "markdown",
   "metadata": {
    "id": "lyJ4BHyIAO2v"
   },
   "source": [
    "After running the query described above, what is the email address of the 5th person, František Wichterlová?"
   ]
  },
  {
   "cell_type": "code",
   "execution_count": null,
   "metadata": {
    "id": "5NrjVMXtARuo"
   },
   "outputs": [],
   "source": [
    "select email\n",
    "from\n",
    "    (select count(invoices.id) as invoices_sum, customers.last_name, customers.first_name, customers.city, customers.email\n",
    "    from customers\n",
    "    join invoices on customers.id = invoices.customer_id\n",
    "    group by customers.id)\n",
    "as sub\n",
    "where last_name = 'Wichterlová'\n",
    "and first_name = 'František';"
   ]
  },
  {
   "cell_type": "markdown",
   "metadata": {
    "id": "7goiyepjAR7T"
   },
   "source": [
    "Retrieve the track name, album, artistID, and trackID for all the albums."
   ]
  },
  {
   "cell_type": "code",
   "execution_count": null,
   "metadata": {
    "id": "9rPwWSkFATpd"
   },
   "outputs": [],
   "source": [
    "select tracks.name as track_name, albums.title as album, albums.artist_id, tracks.id as track_id\n",
    "from tracks\n",
    "join albums on tracks.album_id = albums.id;"
   ]
  },
  {
   "cell_type": "markdown",
   "metadata": {
    "id": "V0CwhMAbAVqr"
   },
   "source": [
    "What is the song title of trackID 12 from the \"For Those About to Rock We Salute You\" ?"
   ]
  },
  {
   "cell_type": "code",
   "execution_count": null,
   "metadata": {
    "id": "BYzFVF9zAYhV"
   },
   "outputs": [],
   "source": [
    "select track_name\n",
    "from\n",
    "    (select tracks.name as track_name, albums.title as album, albums.artist_id, tracks.id as track_id\n",
    "     from tracks\n",
    "         join albums on tracks.album_id = albums.id)\n",
    "as sub\n",
    "where track_id = 12\n",
    "and album = 'For Those About To Rock We Salute You';"
   ]
  },
  {
   "cell_type": "markdown",
   "metadata": {
    "id": "qiIaQQX1AYrq"
   },
   "source": [
    "Retrieve a list with the managers last name, and the last name of the employees who report to him or her. **Who are the reports for the manager named Mitchell?**"
   ]
  },
  {
   "cell_type": "code",
   "execution_count": null,
   "metadata": {
    "id": "AQZBCthEAftB"
   },
   "outputs": [],
   "source": [
    "select emp.last_name as employee, man.last_name as manager\n",
    "from employees emp\n",
    "left join employees man on emp.reports_to =man.id;"
   ]
  },
  {
   "cell_type": "code",
   "execution_count": null,
   "metadata": {},
   "outputs": [],
   "source": [
    "select sub.employee\n",
    "from (select emp.last_name as employee, man.last_name as manager\n",
    "      from employees emp \n",
    "          left join employees man on emp.reports_to =man.id)\n",
    "as sub\n",
    "where sub.manager = 'Mitchell';"
   ]
  },
  {
   "cell_type": "markdown",
   "metadata": {
    "id": "6gZBptiOAh2c"
   },
   "source": [
    "Find the name and ID of the artists who do not have albums. "
   ]
  },
  {
   "cell_type": "code",
   "execution_count": null,
   "metadata": {
    "id": "IgbisBHkAkU4"
   },
   "outputs": [],
   "source": [
    "select artists.name, artists.id\n",
    "from artists\n",
    "full join albums on artists.id = albums.artist_id\n",
    "where albums.id is null;"
   ]
  },
  {
   "cell_type": "markdown",
   "metadata": {
    "id": "lpETQyAhAkgL"
   },
   "source": [
    "Use a UNION to create a list of all the employee's and customer's first names and last names ordered by the last name in descending order. **Determine what is the last name of the 6th record** Remember to order things in descending order to be sure to get the correct answer."
   ]
  },
  {
   "cell_type": "code",
   "execution_count": null,
   "metadata": {
    "id": "zLWDnZ5AArVK"
   },
   "outputs": [],
   "source": [
    "select employees.last_name, employees.first_name\n",
    "from employees\n",
    "union\n",
    "select customers.last_name, customers.first_name\n",
    "from customers\n",
    "order by last_name desc;"
   ]
  },
  {
   "cell_type": "markdown",
   "metadata": {
    "id": "E-HmEIsZArpl"
   },
   "source": [
    "See if there are any customers who have a different city listed in their billing city versus their customer city."
   ]
  },
  {
   "cell_type": "code",
   "execution_count": null,
   "metadata": {
    "id": "Bi4tcpV-AuJM"
   },
   "outputs": [],
   "source": [
    "select customers.first_name, customers.last_name, customers.city, invoices.billing_city\n",
    "from customers\n",
    "join invoices on customers.id = invoices.customer_id\n",
    "where customers.city != invoices.billing_city;"
   ]
  }
 ],
 "metadata": {
  "colab": {
   "collapsed_sections": [],
   "name": "Assignment-5.ipynb",
   "provenance": []
  },
  "kernelspec": {
   "display_name": "Python 3 (ipykernel)",
   "language": "python",
   "name": "python3"
  },
  "language_info": {
   "codemirror_mode": {
    "name": "ipython",
    "version": 3
   },
   "file_extension": ".py",
   "mimetype": "text/x-python",
   "name": "python",
   "nbconvert_exporter": "python",
   "pygments_lexer": "ipython3",
   "version": "3.9.7"
  }
 },
 "nbformat": 4,
 "nbformat_minor": 4
}
